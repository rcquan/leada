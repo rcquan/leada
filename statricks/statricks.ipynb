{
 "metadata": {
  "name": ""
 },
 "nbformat": 3,
 "nbformat_minor": 0,
 "worksheets": [
  {
   "cells": [
    {
     "cell_type": "code",
     "collapsed": false,
     "input": [
      "# get_raw_html\n",
      "from bs4 import BeautifulSoup\n",
      "import urllib\n",
      "\n",
      "def get_raw_html(url):\n",
      "    html_source = urllib.urlopen(url).read()\n",
      "    soup = BeautifulSoup(html_source)\n",
      "    return soup\n",
      "\n",
      "base = \"http://www.boattrader.com\"\n",
      "link = \"http://www.boattrader.com/search-results/NewOrUsed-any/Type-all/Zip-94539/Radius-200/Sort-Length:DESC\"\n",
      "\n",
      "soup = get_raw_html(link)\n",
      "\n",
      "\n",
      "def get_listing_urls(soup):\n",
      "    urlList = []\n",
      "    root = \"http://www.boattrader.com\"\n",
      "    for link in soup.find_all('a'):\n",
      "        if 'listing' in link.get('href'):\n",
      "            urlList.append(base + link.get('href'))\n",
      "    return urlList\n",
      "                \n",
      "# blah = []\n",
      "# for link in soup.find_all('a'):\n",
      "#     if \"listing\" in link.get('href'):\n",
      "#         blah.append(base + link.get('href'))\n",
      "# print blah"
     ],
     "language": "python",
     "metadata": {},
     "outputs": [
      {
       "metadata": {},
       "output_type": "pyout",
       "prompt_number": 41,
       "text": [
        "'http://www.boattrader.com/listing/1999-Sea-Ray-240-Sundancer-620904'"
       ]
      }
     ],
     "prompt_number": 41
    }
   ],
   "metadata": {}
  }
 ]
}